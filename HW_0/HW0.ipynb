{
 "cells": [
  {
   "cell_type": "code",
   "execution_count": 37,
   "id": "5f4f64a2",
   "metadata": {},
   "outputs": [
    {
     "name": "stdout",
     "output_type": "stream",
     "text": [
      "1583\n",
      "1new8old\n"
     ]
    }
   ],
   "source": [
    "#Вывод\n",
    "#Задание 1\n",
    "a = 1, 5, 8, 3\n",
    "a = list(a)\n",
    "a = list(map(str, a))\n",
    "print(''.join(a))\n",
    "\n",
    "b = 1, \"new\", 8, \"old\"\n",
    "b = list(b)\n",
    "b = list(map(str, b))\n",
    "print(''.join(b))\n"
   ]
  },
  {
   "cell_type": "code",
   "execution_count": 13,
   "id": "ab8be09a",
   "metadata": {},
   "outputs": [
    {
     "name": "stdout",
     "output_type": "stream",
     "text": [
      "Введите x1: 0\n",
      "Введите y1: 0\n",
      "Введите x2: 1\n",
      "Введите y2: 1\n",
      "Расстояние между точками [0; 0] и [1; 1]: 1.4142135623730951\n"
     ]
    }
   ],
   "source": [
    "#Арифметика\n",
    "#Задание 2\n",
    "from math import sqrt\n",
    "a = int(input('Введите x1: '))\n",
    "b = int(input('Введите y1: '))\n",
    "c = int(input('Введите x2: '))\n",
    "d = int(input('Введите y2: '))\n",
    "g = (c - a)**2 + (d - b)**2\n",
    "sqrt(g)\n",
    "print(f'Расстояние между точками [{a}; {b}] и [{c}; {d}]: {sqrt(g)}')"
   ]
  },
  {
   "cell_type": "code",
   "execution_count": 17,
   "id": "6ee26b1c",
   "metadata": {},
   "outputs": [
    {
     "name": "stdout",
     "output_type": "stream",
     "text": [
      "1.4142135623730951\n",
      "4.123105625617661\n",
      "8.94427190999916\n"
     ]
    }
   ],
   "source": [
    "#Арифметика\n",
    "#Задание 2 (другой вариант)\n",
    "#Дано:\n",
    "from math import sqrt\n",
    "a = [0, 0]\n",
    "b = [1, 1]\n",
    "c = (b[0] - a[0])**2 + (b[1] - a[1])**2\n",
    "print(sqrt(c))\n",
    "d = [0, 1]\n",
    "e = [1, 5]\n",
    "f = (e[0] - d[0])**2 + (e[1] - d[1])**2\n",
    "print(sqrt(f))\n",
    "g = [4, 1]\n",
    "h = [12, 5]\n",
    "i = (h[0] - g[0])**2 + (h[1] - g[1])**2\n",
    "print(sqrt(i))\n"
   ]
  },
  {
   "cell_type": "code",
   "execution_count": 21,
   "id": "1770f31b",
   "metadata": {},
   "outputs": [
    {
     "name": "stdout",
     "output_type": "stream",
     "text": [
      "2.0\n"
     ]
    }
   ],
   "source": [
    "#Списки\n",
    "#Задание 3\n",
    "color_list = [0.1,\"зеленый\", 1.6, \"белый\", 0.3, \"черный\", 7, \"2.0\"]\n",
    "print(color_list[0]+color_list[2]+color_list[4])\n"
   ]
  },
  {
   "cell_type": "code",
   "execution_count": 19,
   "id": "e29ba251",
   "metadata": {},
   "outputs": [
    {
     "name": "stdout",
     "output_type": "stream",
     "text": [
      "красный черный\n"
     ]
    }
   ],
   "source": [
    "#Списки\n",
    "#Задание 4\n",
    "color_list = [\"красный\",\"зеленый\",\"белый\" ,\"черный\"]\n",
    "a = color_list[0]\n",
    "b = color_list[3]\n",
    "while a in color_list and b in color_list:\n",
    "    print(a, b)\n",
    "    break\n"
   ]
  },
  {
   "cell_type": "code",
   "execution_count": 9,
   "id": "75d379e1",
   "metadata": {},
   "outputs": [
    {
     "name": "stdout",
     "output_type": "stream",
     "text": [
      "Введите что-нибудь: color\n",
      "Элемент color присутствует в списке\n"
     ]
    }
   ],
   "source": [
    "#Списки\n",
    "#Задание 5\n",
    "b = [1, 5, 8, 3, 'color']\n",
    "b = list(map(str, b))\n",
    "a = input('Введите что-нибудь: ')\n",
    "if b.count(str(a)) > 0:\n",
    "    print(f'Элемент {a} присутствует в списке')\n",
    "else:\n",
    "    print(f'Элемента {a} нет в списке')"
   ]
  },
  {
   "cell_type": "code",
   "execution_count": 18,
   "id": "c117cf25",
   "metadata": {},
   "outputs": [
    {
     "name": "stdout",
     "output_type": "stream",
     "text": [
      "9 caMii  /\\y4LLIii proger v 2022 roDy\n"
     ]
    }
   ],
   "source": [
    "#Списки\n",
    "#Задание 6\n",
    "a = [\"9\", \"caMii\", \" /\\y4LLIii\", \"proger\", \"v\", \"2022\", \"roDy\"]\n",
    "while a == a:\n",
    "    print(' '.join(a))\n",
    "    break"
   ]
  },
  {
   "cell_type": "code",
   "execution_count": 17,
   "id": "a2c032d3",
   "metadata": {},
   "outputs": [
    {
     "name": "stdout",
     "output_type": "stream",
     "text": [
      "White Red\n",
      "Black Green\n",
      "Red White\n"
     ]
    }
   ],
   "source": [
    "#Списки\n",
    "#Задание 7\n",
    "color_list_1 = [\"White\", \"Black\", \"Red\"]\n",
    "color_list_2 = [\"Red\", \"Green\", \"White\"]\n",
    "for n1, n2 in zip(color_list_1, color_list_2):\n",
    "    print('{0} {1}'.format(n1, n2))"
   ]
  },
  {
   "cell_type": "code",
   "execution_count": 15,
   "id": "8bbcbbfd",
   "metadata": {},
   "outputs": [
    {
     "name": "stdout",
     "output_type": "stream",
     "text": [
      "aaabbbbbbcccccccccdddddddddddd\n"
     ]
    }
   ],
   "source": [
    "#Списки\n",
    "#Задание 8\n",
    "a = [\"a\", \"b\", \"c\", \"d\"]\n",
    "while a:\n",
    "    print(a[0]*3+a[1]*6+a[2]*9+a[3]*12)\n",
    "    break"
   ]
  },
  {
   "cell_type": "code",
   "execution_count": 13,
   "id": "b7ee0f46",
   "metadata": {},
   "outputs": [
    {
     "name": "stdout",
     "output_type": "stream",
     "text": [
      "[2.4, 1000.0]\n",
      "[1, 11111]\n",
      "['a', 'b', 'string', 'new', 'old']\n"
     ]
    }
   ],
   "source": [
    "#Списки\n",
    "#Задание 9\n",
    "sample = [[\"a\", \"b\", 1, 2.4], \"string\", [\"new\", 11111, 1000.0, \"old\"]]\n",
    "\n",
    "floats = [sample[0][3]] + [sample[2][2]]\n",
    "\n",
    "integers = [sample[0][2]] + [sample[2][1]]\n",
    "\n",
    "strings = [sample[0][0]] + [sample[0][1]] + [sample[1]] + [sample[2][0]] + [sample[2][3]]\n",
    "\n",
    "print(floats)\n",
    "print(integers)\n",
    "print(strings)"
   ]
  },
  {
   "cell_type": "code",
   "execution_count": 1,
   "id": "194feb1c",
   "metadata": {},
   "outputs": [
    {
     "name": "stdout",
     "output_type": "stream",
     "text": [
      "Thu Oct 13 14:40:48 2022\n"
     ]
    }
   ],
   "source": [
    "#Библиотеки\n",
    "#Задание 10\n",
    "from datetime import datetime\n",
    "a = datetime.now()\n",
    "print(a.strftime('%c'))\n"
   ]
  },
  {
   "cell_type": "code",
   "execution_count": 3,
   "id": "aed7f5dc",
   "metadata": {},
   "outputs": [
    {
     "name": "stdout",
     "output_type": "stream",
     "text": [
      "Thu Oct 13 14:54:08 2022\n"
     ]
    }
   ],
   "source": [
    "#Библиотеки\n",
    "#Задание 10 (другой вариант)\n",
    "import time\n",
    "a = time.localtime()\n",
    "b = time.strftime('%c', a)\n",
    "print(b)"
   ]
  },
  {
   "cell_type": "code",
   "execution_count": null,
   "id": "c295d38e",
   "metadata": {},
   "outputs": [],
   "source": []
  }
 ],
 "metadata": {
  "kernelspec": {
   "display_name": "Python 3 (ipykernel)",
   "language": "python",
   "name": "python3"
  },
  "language_info": {
   "codemirror_mode": {
    "name": "ipython",
    "version": 3
   },
   "file_extension": ".py",
   "mimetype": "text/x-python",
   "name": "python",
   "nbconvert_exporter": "python",
   "pygments_lexer": "ipython3",
   "version": "3.7.13"
  }
 },
 "nbformat": 4,
 "nbformat_minor": 5
}
