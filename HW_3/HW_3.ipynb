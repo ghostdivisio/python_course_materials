{
  "nbformat": 4,
  "nbformat_minor": 0,
  "metadata": {
    "colab": {
      "provenance": []
    },
    "kernelspec": {
      "name": "python3",
      "display_name": "Python 3"
    },
    "language_info": {
      "name": "python"
    }
  },
  "cells": [
    {
      "cell_type": "code",
      "source": [
        "!wget https://gist.githubusercontent.com/NooblyRand0m/404c8a252f89862654c3fa6bba3d8bc3/raw/26c97aa3876ef33f3509e3b1209402c5c138f06c/coursera_week3_cars.csv"
      ],
      "metadata": {
        "colab": {
          "base_uri": "https://localhost:8080/"
        },
        "id": "Rsf5lGvLIGJV",
        "outputId": "944db5df-2568-4ef1-addc-77ee9bb112c2"
      },
      "execution_count": 11,
      "outputs": [
        {
          "output_type": "stream",
          "name": "stdout",
          "text": [
            "--2022-12-27 16:44:58--  https://gist.githubusercontent.com/NooblyRand0m/404c8a252f89862654c3fa6bba3d8bc3/raw/26c97aa3876ef33f3509e3b1209402c5c138f06c/coursera_week3_cars.csv\n",
            "Resolving gist.githubusercontent.com (gist.githubusercontent.com)... 185.199.108.133, 185.199.109.133, 185.199.110.133, ...\n",
            "Connecting to gist.githubusercontent.com (gist.githubusercontent.com)|185.199.108.133|:443... connected.\n",
            "HTTP request sent, awaiting response... 200 OK\n",
            "Length: 287 [text/plain]\n",
            "Saving to: ‘coursera_week3_cars.csv.1’\n",
            "\n",
            "\r          coursera_   0%[                    ]       0  --.-KB/s               \rcoursera_week3_cars 100%[===================>]     287  --.-KB/s    in 0s      \n",
            "\n",
            "2022-12-27 16:44:58 (12.8 MB/s) - ‘coursera_week3_cars.csv.1’ saved [287/287]\n",
            "\n"
          ]
        }
      ]
    },
    {
      "cell_type": "code",
      "source": [
        "!head coursera_week3_cars.csv"
      ],
      "metadata": {
        "colab": {
          "base_uri": "https://localhost:8080/"
        },
        "id": "-g17bcdyISDj",
        "outputId": "091959bc-09c6-4b29-9180-8862446e489f"
      },
      "execution_count": 12,
      "outputs": [
        {
          "output_type": "stream",
          "name": "stdout",
          "text": [
            "car_type;brand;passenger_seats_count;photo_file_name;body_whl;carrying;extra\n",
            "car;Nissan xTtrail;4;f1.jpeg;;2.5;\n",
            "truck;Man;;f2.png;8x3x2.5;20;\n",
            "truck;Man;;f2.png;;20;\n",
            "car;Mazda 6;4;f3.jpeg;;2.5;\n",
            ";;;\n",
            "spec_machine;Hitachi;;f4;;1.2;Легкая техника для уборки снега\n",
            "\n"
          ]
        }
      ]
    },
    {
      "cell_type": "code",
      "source": [
        "#Это колаб\n",
        "import csv\n",
        "import sys\n",
        "import os\n",
        "\n",
        "class CarBase:\n",
        "    def __init__(self, brand, photo_file_name, carrying):\n",
        "        \n",
        "        if not all(i != '' for i in (brand, photo_file_name, carrying)):\n",
        "            raise ValueError\n",
        "\n",
        "        self.brand = brand\n",
        "        self.photo_file_name = photo_file_name\n",
        "        self.carrying = float(carrying)\n",
        "        \n",
        "        self.ext = self.get_photo_file_ext()\n",
        "\n",
        "    def get_photo_file_ext(self):\n",
        "        _, ext = os.path.splitext(self.photo_file_name)\n",
        "        if ext not in ['.jpg', '.jpeg', '.png', '.gif']:\n",
        "            raise ValueError\n",
        "        return ext\n",
        "\n",
        "\n",
        "class Car(CarBase):\n",
        "    car_type = 'car'\n",
        "\n",
        "    def __init__(self, brand, photo_file_name, carrying, passenger_seats_count):\n",
        "        super().__init__(brand, photo_file_name, carrying)\n",
        "        self.passenger_seats_count = int(passenger_seats_count)\n",
        "\n",
        "\n",
        "class Truck(CarBase):\n",
        "    car_type = 'truck'\n",
        "\n",
        "    def __init__(self, brand, photo_file_name, carrying, body_whl):\n",
        "        super().__init__(brand, photo_file_name, carrying)\n",
        "        \n",
        "        try:\n",
        "            length, width, height = (float(c) for c in body_whl.split('x', 2))\n",
        "        except ValueError:\n",
        "            length, width, height = .0, .0, .0\n",
        "\n",
        "        self.body_length = length\n",
        "        self.body_width = width\n",
        "        self.body_height = height\n",
        "\n",
        "    def get_body_volume(self):\n",
        "        return self.body_width * self.body_height * self.body_length\n",
        "\n",
        "\n",
        "class SpecMachine(CarBase):\n",
        "    car_type = 'spec_machine'\n",
        "\n",
        "    def __init__(self, brand, photo_file_name, carrying, extra):\n",
        "        super().__init__(brand, photo_file_name, carrying)\n",
        "        \n",
        "        if extra == '':\n",
        "            raise ValueError\n",
        "        self.extra = extra\n",
        "\n",
        "\n",
        "def get_car_list(csv_filename):\n",
        "    csv_filename = 'coursera_week3_cars.csv'\n",
        "    with open(csv_filename, encoding='utf-8') as csv_fd:\n",
        "       \n",
        "        reader = csv.reader(csv_fd, delimiter=';')\n",
        "\n",
        "        next(reader)\n",
        "\n",
        "        car_list = []\n",
        "\n",
        "        car_types = {\n",
        "            'car': lambda x: Car(x[1], x[3], x[5], x[2]),\n",
        "            'truck': lambda x: Truck(x[1], x[3], x[5], x[4]),\n",
        "            'spec_machine': lambda x: SpecMachine(x[1], x[3], x[5], x[6])}\n",
        "\n",
        "       \n",
        "        for row in reader:\n",
        "            try:\n",
        "                car_type = row[0]\n",
        "                \n",
        "                if car_type in car_types:\n",
        "                    car_list.append(car_types[car_type](row))\n",
        "           \n",
        "            except (ValueError, IndexError):\n",
        "                pass\n",
        "\n",
        "    return car_list\n",
        "\n",
        "\n",
        "if __name__ == '__main__':\n",
        "    print(get_car_list(sys.argv[1]))"
      ],
      "metadata": {
        "colab": {
          "base_uri": "https://localhost:8080/"
        },
        "id": "0eCliraio4rs",
        "outputId": "8e077625-174d-4fdd-ae3f-44d5247af58b"
      },
      "execution_count": 13,
      "outputs": [
        {
          "output_type": "stream",
          "name": "stdout",
          "text": [
            "[<__main__.Car object at 0x7fe9df12db50>, <__main__.Truck object at 0x7fe9df12ddf0>, <__main__.Truck object at 0x7fe9df12de20>, <__main__.Car object at 0x7fe9df12de50>]\n"
          ]
        }
      ]
    },
    {
      "cell_type": "code",
      "source": [
        "car = Car('Bugatti Veyron', 'bugatti.png', '0.312', '2')\n",
        "print(car.car_type, car.brand, car.photo_file_name, car.carrying, car.passenger_seats_count, sep='\\n')"
      ],
      "metadata": {
        "colab": {
          "base_uri": "https://localhost:8080/"
        },
        "id": "VYIZGmnwpNcX",
        "outputId": "2c3ef6ff-8140-4a60-b119-9da3383c1c29"
      },
      "execution_count": 14,
      "outputs": [
        {
          "output_type": "stream",
          "name": "stdout",
          "text": [
            "car\n",
            "Bugatti Veyron\n",
            "bugatti.png\n",
            "0.312\n",
            "2\n"
          ]
        }
      ]
    },
    {
      "cell_type": "code",
      "source": [
        "truck = Truck('Nissan', 'nissan.jpeg', '1.5', '3.92x2.09x1.87')\n",
        "print(truck.car_type, truck.brand, truck.photo_file_name, truck.body_length, truck.body_width, truck.body_height, sep='\\n')"
      ],
      "metadata": {
        "colab": {
          "base_uri": "https://localhost:8080/"
        },
        "id": "NWKvN8QLpiU2",
        "outputId": "bca60623-1587-4334-c2c9-e3e8728a7047"
      },
      "execution_count": 15,
      "outputs": [
        {
          "output_type": "stream",
          "name": "stdout",
          "text": [
            "truck\n",
            "Nissan\n",
            "nissan.jpeg\n",
            "3.92\n",
            "2.09\n",
            "1.87\n"
          ]
        }
      ]
    },
    {
      "cell_type": "code",
      "source": [
        "spec_machine = SpecMachine('Komatsu-D355', 'd355.jpg', '93', 'pipelayer specs')\n",
        "print(spec_machine.car_type, spec_machine.brand, spec_machine.carrying, spec_machine.photo_file_name, spec_machine.extra, sep='\\n')"
      ],
      "metadata": {
        "colab": {
          "base_uri": "https://localhost:8080/"
        },
        "id": "SXfVgNR7pibL",
        "outputId": "0fcbac1b-1e90-4c95-80d6-b2304df1a7b8"
      },
      "execution_count": 16,
      "outputs": [
        {
          "output_type": "stream",
          "name": "stdout",
          "text": [
            "spec_machine\n",
            "Komatsu-D355\n",
            "93.0\n",
            "d355.jpg\n",
            "pipelayer specs\n"
          ]
        }
      ]
    },
    {
      "cell_type": "code",
      "source": [
        "spec_machine.get_photo_file_ext()"
      ],
      "metadata": {
        "colab": {
          "base_uri": "https://localhost:8080/",
          "height": 36
        },
        "id": "SEDGUF1spifB",
        "outputId": "de7880aa-0246-40c2-fedf-9bbe5b7922fa"
      },
      "execution_count": 17,
      "outputs": [
        {
          "output_type": "execute_result",
          "data": {
            "text/plain": [
              "'.jpg'"
            ],
            "application/vnd.google.colaboratory.intrinsic+json": {
              "type": "string"
            }
          },
          "metadata": {},
          "execution_count": 17
        }
      ]
    },
    {
      "cell_type": "code",
      "source": [
        "cars = get_car_list('cars_week3.csv')\n",
        "len(cars)"
      ],
      "metadata": {
        "colab": {
          "base_uri": "https://localhost:8080/"
        },
        "id": "kVIcPiCNpiix",
        "outputId": "7048c57e-f077-464e-f9b3-ffd5fc934b51"
      },
      "execution_count": 18,
      "outputs": [
        {
          "output_type": "execute_result",
          "data": {
            "text/plain": [
              "4"
            ]
          },
          "metadata": {},
          "execution_count": 18
        }
      ]
    },
    {
      "cell_type": "code",
      "source": [
        "cars[0].passenger_seats_count"
      ],
      "metadata": {
        "colab": {
          "base_uri": "https://localhost:8080/"
        },
        "id": "wFeelMUbpilr",
        "outputId": "6e8211dd-5655-4118-ae7c-1dbfae979362"
      },
      "execution_count": 19,
      "outputs": [
        {
          "output_type": "execute_result",
          "data": {
            "text/plain": [
              "4"
            ]
          },
          "metadata": {},
          "execution_count": 19
        }
      ]
    },
    {
      "cell_type": "code",
      "source": [
        "cars[1].get_body_volume()"
      ],
      "metadata": {
        "colab": {
          "base_uri": "https://localhost:8080/"
        },
        "id": "ZZTpIiaxpipZ",
        "outputId": "7789e323-6d62-494e-9e20-383e32191a42"
      },
      "execution_count": 20,
      "outputs": [
        {
          "output_type": "execute_result",
          "data": {
            "text/plain": [
              "60.0"
            ]
          },
          "metadata": {},
          "execution_count": 20
        }
      ]
    },
    {
      "cell_type": "code",
      "source": [],
      "metadata": {
        "id": "xMhL70Y1pitB"
      },
      "execution_count": null,
      "outputs": []
    },
    {
      "cell_type": "code",
      "source": [],
      "metadata": {
        "id": "JY7QmiZkpivh"
      },
      "execution_count": null,
      "outputs": []
    }
  ]
}