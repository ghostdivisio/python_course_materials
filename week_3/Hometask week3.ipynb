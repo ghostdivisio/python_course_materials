{
 "cells": [
  {
   "cell_type": "code",
   "execution_count": 62,
   "id": "b9add3bc",
   "metadata": {},
   "outputs": [
    {
     "name": "stdout",
     "output_type": "stream",
     "text": [
      "Цифра первого списка - 2; Цифра второго списка - 2\n",
      "Списки равны\n",
      "Цифра первого списка - 4; Цифра второго списка - 2\n",
      "Списки разные\n"
     ]
    }
   ],
   "source": [
    "numbers1 = [2, 4, 3]\n",
    "numbers2 = [2, 2, 3]\n",
    "if len(numbers1) != len(numbers2):\n",
    "    print('Списки разные')\n",
    "else:\n",
    "    for n1, n2 in zip(numbers1, numbers2):\n",
    "        print('Цифра первого списка - {0}; Цифра второго списка - {1}'.format(n1, n2))\n",
    "        if n1 != n2:\n",
    "            print('Списки разные')\n",
    "            break\n",
    "        else:\n",
    "            print('Списки равны')\n"
   ]
  },
  {
   "cell_type": "code",
   "execution_count": 77,
   "id": "4e742561",
   "metadata": {},
   "outputs": [
    {
     "name": "stdout",
     "output_type": "stream",
     "text": [
      "Введите последовательность символов без пробелов и запятых: 123\\\n",
      "Введите последовательность символов без пробелов и запятых: 123\n",
      "Списки разные\n"
     ]
    }
   ],
   "source": [
    "numbers1 = input('Введите последовательность символов без пробелов и запятых: ')\n",
    "numbers2 = input('Введите последовательность символов без пробелов и запятых: ')\n",
    "if len(numbers1) != len(numbers2):\n",
    "    print('Списки разные')\n",
    "else:\n",
    "    for n1, n2 in zip(numbers1, numbers2):\n",
    "        print('Цифра первого списка - {0}; Цифра второго списка - {1}'.format(n1, n2))\n",
    "        if n1 != n2:\n",
    "            print('Списки разные')\n",
    "            break\n",
    "        else:\n",
    "            print('Списки равны')"
   ]
  },
  {
   "cell_type": "code",
   "execution_count": null,
   "id": "47dff6b1",
   "metadata": {},
   "outputs": [],
   "source": []
  }
 ],
 "metadata": {
  "kernelspec": {
   "display_name": "Python 3 (ipykernel)",
   "language": "python",
   "name": "python3"
  },
  "language_info": {
   "codemirror_mode": {
    "name": "ipython",
    "version": 3
   },
   "file_extension": ".py",
   "mimetype": "text/x-python",
   "name": "python",
   "nbconvert_exporter": "python",
   "pygments_lexer": "ipython3",
   "version": "3.9.12"
  }
 },
 "nbformat": 4,
 "nbformat_minor": 5
}
