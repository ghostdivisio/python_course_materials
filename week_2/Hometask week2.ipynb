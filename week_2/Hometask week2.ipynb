{
 "cells": [
  {
   "cell_type": "code",
   "execution_count": 9,
   "id": "fa1f9a92",
   "metadata": {},
   "outputs": [
    {
     "name": "stdout",
     "output_type": "stream",
     "text": [
      "Введите Ваше имя: Олег\n",
      "Введите Ваш возраст: 22\n",
      "В 2100 вам исполнится 100 лет.\n"
     ]
    }
   ],
   "source": [
    "name = input(\"Введите Ваше имя: \")\n",
    "age = int(input(\"Введите Ваш возраст: \"))\n",
    "hundred_years = int(2022 - int(age) + 100)\n",
    "print(f\"В {hundred_years} вам исполнится 100 лет.\")"
   ]
  },
  {
   "cell_type": "code",
   "execution_count": 4,
   "id": "8dd0d536",
   "metadata": {},
   "outputs": [
    {
     "name": "stdout",
     "output_type": "stream",
     "text": [
      "1505\n",
      "1540\n",
      "1575\n",
      "1610\n",
      "1645\n",
      "1680\n",
      "1715\n",
      "1750\n",
      "1785\n",
      "1820\n",
      "1855\n",
      "1890\n",
      "1925\n",
      "1960\n",
      "1995\n",
      "2030\n",
      "2065\n",
      "2100\n",
      "2135\n",
      "2170\n",
      "2205\n",
      "2240\n",
      "2275\n",
      "2310\n",
      "2345\n",
      "2380\n",
      "2415\n",
      "2450\n",
      "2485\n",
      "2520\n",
      "2555\n",
      "2590\n",
      "2625\n",
      "2660\n",
      "2695\n"
     ]
    }
   ],
   "source": [
    "value = 1500\n",
    "while 1500 <= value <= 2700:\n",
    "    if value % 5 == 0 and value % 7 == 0:\n",
    "        print(value)\n",
    "    value = value + 1"
   ]
  },
  {
   "cell_type": "code",
   "execution_count": 49,
   "id": "56510514",
   "metadata": {},
   "outputs": [
    {
     "name": "stdout",
     "output_type": "stream",
     "text": [
      "# * \n",
      "# * * \n",
      "# * * * \n",
      "# * * * * \n",
      "# * * * * * \n",
      "# * * * * \n",
      "# * * * \n",
      "# * * \n",
      "# * \n"
     ]
    }
   ],
   "source": [
    "x = 1\n",
    "for i in '#':\n",
    "    print(str('# ') + '* ' * x)\n",
    "    x+=1\n",
    "while x <= 5:\n",
    "    print (str('# ') + '* ' * x)\n",
    "    x+=1\n",
    "x = 4\n",
    "for i in '#':\n",
    "    print(str('# ') + '* ' * x)\n",
    "    x-=1\n",
    "while x >= 1:\n",
    "    print (str('# ') + '* ' * x)\n",
    "    x-=1    "
   ]
  },
  {
   "cell_type": "code",
   "execution_count": 43,
   "id": "0ad17549",
   "metadata": {},
   "outputs": [
    {
     "name": "stdout",
     "output_type": "stream",
     "text": [
      "# * \n",
      "# * * \n",
      "# * * * \n",
      "# * * * * \n",
      "# * * * * * \n",
      "# * * * * \n",
      "# * * * \n",
      "# * * \n",
      "# * \n"
     ]
    }
   ],
   "source": [
    "x = 1\n",
    "while x <= 5:\n",
    "    print(str('# ') + str('* ' * x))\n",
    "    x+=1\n",
    "x = 4\n",
    "while x <= 4 and x > 0:\n",
    "    print(str('# ') + str('* ' * x))\n",
    "    x-=1"
   ]
  },
  {
   "cell_type": "code",
   "execution_count": 97,
   "id": "3f458dab",
   "metadata": {},
   "outputs": [
    {
     "name": "stdout",
     "output_type": "stream",
     "text": [
      "0\n",
      "1\n",
      "2\n",
      "4\n",
      "5\n"
     ]
    }
   ],
   "source": [
    "x = 0\n",
    "print(x)\n",
    "while x < 6:\n",
    "    x+=1\n",
    "    if x == 3 or x == 6:\n",
    "        continue \n",
    "    print(x)"
   ]
  },
  {
   "cell_type": "code",
   "execution_count": 15,
   "id": "f015636f",
   "metadata": {},
   "outputs": [
    {
     "name": "stdout",
     "output_type": "stream",
     "text": [
      "Введите значение длины каждой стороны треугольника\n",
      "Введите длину одной стороны: 2\n",
      "Введите длину второй стороны: 2\n",
      "Введите длину третьей стороны: -1\n",
      "Программа так не работает🙅\n"
     ]
    }
   ],
   "source": [
    "print(\"Введите значение длины каждой стороны треугольника\")\n",
    "a = int(input('Введите длину одной стороны: '))\n",
    "b = int(input('Введите длину второй стороны: '))\n",
    "c = int(input('Введите длину третьей стороны: '))\n",
    "if (a == b == c) and (a>0 and b>0 and c>0):\n",
    "    print('Треугольник равносторонний🙌')\n",
    "elif (a == b != c or a == c != b or b == c != a) and (a>0 and b>0 and c>0):\n",
    "    print('Треугольник равнобедренный🙏')\n",
    "elif (a != b != c) and (a>0 and b>0 and c>0):\n",
    "    print('Треугольник разносторонний🖐')\n",
    "elif (a<=0) or (b<=0) or (c<=0):\n",
    "    print('Программа так не работает🙅')"
   ]
  },
  {
   "cell_type": "code",
   "execution_count": 10,
   "id": "fb502594",
   "metadata": {},
   "outputs": [
    {
     "name": "stdout",
     "output_type": "stream",
     "text": [
      "Введите нынешний год: 2023\n",
      "Введите нынешний месяц: 2\n",
      "Введите сегодняшнее число: 28\n",
      "Завтра будет 1-3-2023\n"
     ]
    }
   ],
   "source": [
    "#Вариант когда месяц записан числом...\n",
    "year = int(input('Введите нынешний год: '))\n",
    "month = int(input('Введите нынешний месяц: '))\n",
    "day = int(input('Введите сегодняшнее число: '))\n",
    "\n",
    "new_year = int(year + 1)\n",
    "march = 3\n",
    "first_day_of_month = 1\n",
    "first_month_of_year = 1\n",
    "the_following_day = int(day + 1)\n",
    "\n",
    "if (year % 4 == 0) and (day == 29) and (month == 2):\n",
    "    print (f'Завтра будет {first_day_of_month}-{march}-{year}')\n",
    "if (year %4 != 0) and (day == 28) and (month == 2):\n",
    "    print (f'Завтра будет {first_day_of_month}-{march}-{year}')\n",
    "if (year % 4 == 0) and (day == 28) and (month == 2):\n",
    "    print (f'Завтра будет {the_following_day}-{month}-{year}')\n",
    "if (day == 30) and (month == 4 or 6 or 9 or 11):\n",
    "    print (f'Завтра будет {first_day_of_month}-{int(month + 1)}-{year}')\n",
    "if (day == 31) and (month == 12):\n",
    "    print (f'Завтра будет {first_day_of_month}-{first_month_of_year}-{new_year}')\n",
    "if (day >= 1) and (day < 30) and (month != 2):\n",
    "    print (f'Завтра будет {the_following_day}-{month}-{year}')\n",
    "if (day == 31) and (month == 1, 3, 5, 7, 8, 10) and (month != 12):\n",
    "    print (f'Завтра будет {first_day_of_month}-{int(month + 1)}-{year}')\n",
    "    "
   ]
  },
  {
   "cell_type": "code",
   "execution_count": null,
   "id": "959d2090",
   "metadata": {},
   "outputs": [],
   "source": []
  }
 ],
 "metadata": {
  "kernelspec": {
   "display_name": "Python 3 (ipykernel)",
   "language": "python",
   "name": "python3"
  },
  "language_info": {
   "codemirror_mode": {
    "name": "ipython",
    "version": 3
   },
   "file_extension": ".py",
   "mimetype": "text/x-python",
   "name": "python",
   "nbconvert_exporter": "python",
   "pygments_lexer": "ipython3",
   "version": "3.9.12"
  }
 },
 "nbformat": 4,
 "nbformat_minor": 5
}
