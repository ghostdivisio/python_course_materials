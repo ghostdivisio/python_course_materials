{
 "cells": [
  {
   "cell_type": "code",
   "execution_count": 1,
   "metadata": {},
   "outputs": [
    {
     "name": "stdout",
     "output_type": "stream",
     "text": [
      "1\n"
     ]
    },
    {
     "data": {
      "text/plain": [
       "<function __main__.lcd(x, y)>"
      ]
     },
     "execution_count": 1,
     "metadata": {},
     "output_type": "execute_result"
    }
   ],
   "source": [
    "#Задача 0\n",
    "def lcd (x, y):\n",
    "    while x != 0 and y != 0:\n",
    "        if x > y:\n",
    "            x = x % y\n",
    "        else:\n",
    "            y = y % x\n",
    "        if x ==0 and y == 0:\n",
    "            print('На 0 делить нельзя')\n",
    "        else:\n",
    "            print(x + y)\n",
    "    return(lcd)\n",
    "lcd(1,50)"
   ]
  },
  {
   "cell_type": "code",
   "execution_count": 3,
   "metadata": {},
   "outputs": [
    {
     "data": {
      "text/plain": [
       "'camel_case_var'"
      ]
     },
     "execution_count": 3,
     "metadata": {},
     "output_type": "execute_result"
    }
   ],
   "source": [
    "#Задача 1\n",
    "def f(a):\n",
    "    b = a[0]\n",
    "    for i in a[1:]:\n",
    "        if i.isupper():\n",
    "            b += f'_{i}'\n",
    "        else:\n",
    "            b += i\n",
    "    return(b.lower())\n",
    "f('CamelCaseVar')"
   ]
  },
  {
   "cell_type": "code",
   "execution_count": 5,
   "metadata": {},
   "outputs": [
    {
     "name": "stdout",
     "output_type": "stream",
     "text": [
      "Введите N: 3\n",
      "Ход 1: Вверх 1\n",
      "Ход 2: Вверх 8\n",
      "Ход 3: Вверх 0\n",
      "Пётр находится на расстоянии 9 от (0,0)\n"
     ]
    }
   ],
   "source": [
    "#Задача 2\n",
    "start_x=0\n",
    "start_y=0\n",
    "N=int(input('Введите N: '))\n",
    "for move in range(N):\n",
    "    a = input(f'Ход {move + 1}: ')\n",
    "    move_direction, move_coord = a.split()\n",
    "    if move_direction == 'Вверх':\n",
    "        start_y += int(move_coord)\n",
    "    if move_direction == 'Вниз':\n",
    "        start_y -= int(move_coord)\n",
    "    if move_direction == 'Вправо':\n",
    "        start_x += int(move_coord)\n",
    "    if move_direction == 'Влево':\n",
    "        start_x -= int(move_coord)\n",
    "print(f'Пётр находится на расстоянии {abs(start_x) + abs(start_y)} от (0,0)')"
   ]
  },
  {
   "cell_type": "code",
   "execution_count": 7,
   "metadata": {},
   "outputs": [
    {
     "name": "stdout",
     "output_type": "stream",
     "text": [
      "[('cheesecake', 4), ('chocolate', 2), ('pudding', 3), ('tiramisu', 5)]\n"
     ]
    }
   ],
   "source": [
    "#Задача 3\n",
    "d_= {\"tiramisu\":5, \"chocolate\":2, \"pudding\":3, \"cheesecake\":4}\n",
    "print(sorted(d_.items()))"
   ]
  },
  {
   "cell_type": "code",
   "execution_count": 10,
   "metadata": {},
   "outputs": [
    {
     "name": "stdout",
     "output_type": "stream",
     "text": [
      "Введите три любых числа через пробел: 0 0 0\n",
      "True\n"
     ]
    }
   ],
   "source": [
    "#Задача 4\n",
    "import re\n",
    "a=str(input('Введите три любых числа через пробел: '))\n",
    "shablon = re.compile(r'[-0-9]+')\n",
    "b=shablon.findall(a)\n",
    "if b.count(b[0])>=2 or b.count(b[1])>=2 or b.count(b[2])>=2:\n",
    "    print('True')\n",
    "else:\n",
    "    print('False')"
   ]
  },
  {
   "cell_type": "code",
   "execution_count": 11,
   "metadata": {},
   "outputs": [
    {
     "data": {
      "text/plain": [
       "[(3, 1), (3, 6), (4, 7), (8, 4), (5, 9)]"
      ]
     },
     "execution_count": 11,
     "metadata": {},
     "output_type": "execute_result"
    }
   ],
   "source": [
    "#Задача 5\n",
    "x = [(3,6),(4,7),(5,9),(8,4),(3,1)]\n",
    "x.sort(key = lambda x: x[0] + x[1])\n",
    "x"
   ]
  },
  {
   "cell_type": "code",
   "execution_count": 12,
   "metadata": {},
   "outputs": [
    {
     "data": {
      "text/plain": [
       "34"
      ]
     },
     "execution_count": 12,
     "metadata": {},
     "output_type": "execute_result"
    }
   ],
   "source": [
    "#Задача 6\n",
    "def findlargestnum(*b):\n",
    "    a=list(b)\n",
    "    a.sort()\n",
    "    return(a[-1])\n",
    "findlargestnum(1, 0, 34, 10)"
   ]
  },
  {
   "cell_type": "code",
   "execution_count": 13,
   "metadata": {},
   "outputs": [
    {
     "data": {
      "text/plain": [
       "'ahaaha'"
      ]
     },
     "execution_count": 13,
     "metadata": {},
     "output_type": "execute_result"
    }
   ],
   "source": [
    "#Задача 7\n",
    "def repetition(a, b):\n",
    "    result=a*b\n",
    "    return(result)\n",
    "repetition('aha', 2)"
   ]
  },
  {
   "cell_type": "code",
   "execution_count": 18,
   "metadata": {},
   "outputs": [
    {
     "data": {
      "text/plain": [
       "31"
      ]
     },
     "execution_count": 18,
     "metadata": {},
     "output_type": "execute_result"
    }
   ],
   "source": [
    "#Задача 8\n",
    "def sum_minimus(a):\n",
    "    a1=[]\n",
    "    for i in a:\n",
    "        if type(i)==list:\n",
    "            a=min(i)\n",
    "            a1.append(a)\n",
    "    return(sum(a1))\n",
    "sum_minimus([\n",
    "    [2, 2, 10, 4, 1],\n",
    "    [20, 21],\n",
    "    [34, 4555, 5],\n",
    "    [5, 6, 7, 8, 9]])"
   ]
  },
  {
   "cell_type": "code",
   "execution_count": 20,
   "metadata": {},
   "outputs": [
    {
     "data": {
      "text/plain": [
       "2"
      ]
     },
     "execution_count": 20,
     "metadata": {},
     "output_type": "execute_result"
    }
   ],
   "source": [
    "#Задача 9\n",
    "def potatoes(a):\n",
    "    b = 'potato'\n",
    "    c = a.count(b)\n",
    "    return(c)\n",
    "potatoes('potatoappleapotato')"
   ]
  },
  {
   "cell_type": "code",
   "execution_count": 23,
   "metadata": {},
   "outputs": [
    {
     "data": {
      "text/plain": [
       "[222]"
      ]
     },
     "execution_count": 23,
     "metadata": {},
     "output_type": "execute_result"
    }
   ],
   "source": [
    "#Задача 10\n",
    "def find_single_number(a):\n",
    "    b=[]\n",
    "    for i in a:\n",
    "        if a.count(i)==1:\n",
    "            b.append(i)\n",
    "    return(b)\n",
    "find_single_number([1, 222, 0, 0, 1])"
   ]
  },
  {
   "cell_type": "code",
   "execution_count": 27,
   "metadata": {},
   "outputs": [
    {
     "name": "stdout",
     "output_type": "stream",
     "text": [
      "True\n"
     ]
    },
    {
     "data": {
      "text/plain": [
       "('r', ['iop', 'fffpiuyfdd'])"
      ]
     },
     "execution_count": 27,
     "metadata": {},
     "output_type": "execute_result"
    }
   ],
   "source": [
    "#Задача 11\n",
    "def forbidden_letter(a, b):\n",
    "    x=''.join(b)\n",
    "    if a in x:\n",
    "        print('False')\n",
    "    else:\n",
    "        print('True')\n",
    "    return(a, b)\n",
    "forbidden_letter('r', ['iop', 'fffpiuyfdd'])"
   ]
  },
  {
   "cell_type": "code",
   "execution_count": 38,
   "metadata": {},
   "outputs": [
    {
     "name": "stdout",
     "output_type": "stream",
     "text": [
      "False\n"
     ]
    },
    {
     "data": {
      "text/plain": [
       "(2, 3, 0)"
      ]
     },
     "execution_count": 38,
     "metadata": {},
     "output_type": "execute_result"
    }
   ],
   "source": [
    "#Задача 13\n",
    "def is_triangle(*a):\n",
    "    b=a[0]\n",
    "    if a[0]==b and a[1]==b+1 and a[2]==b+2:\n",
    "        print(True)\n",
    "    else:\n",
    "        print(False)\n",
    "    return(a)\n",
    "is_triangle(2, 3, 0)"
   ]
  },
  {
   "cell_type": "code",
   "execution_count": 41,
   "metadata": {},
   "outputs": [
    {
     "data": {
      "text/plain": [
       "'Привет, Ваня!'"
      ]
     },
     "execution_count": 41,
     "metadata": {},
     "output_type": "execute_result"
    }
   ],
   "source": [
    "#Задача 14\n",
    "def code(b):\n",
    "    result=[]\n",
    "    replacement = {'а': 'б', 'б': 'в', 'в': 'г', 'г': 'д', 'д': 'е', 'е': 'ё', 'ё': 'ж',\n",
    "    'ж': 'з', 'з': 'и', 'и': 'й', 'й': '1', 'к': '2', 'л': '3',\n",
    "    'м': 'н', 'н': 'о', 'о': 'п', 'п': 'р', 'р': 'с', 'с': 'т',\n",
    "    'т': '4', 'у': '5', 'ф': '6', 'х': '7', 'ц': '8', 'ч': '9',\n",
    "    'ш': 'щ', 'щ': 'ь', 'ь': 'ы', 'ы': 'ъ', 'ъ': '0', 'э': 'ю', 'ю': 'я',\n",
    "    'я': 'а', ' ': ' ', ',': ',', '!': '!', 'А': 'Б', 'Б': 'В', 'В': 'Г',\n",
    "    'Г': 'Д', 'Д': 'Е', 'Е': 'Ё', 'Ё': 'Ж', 'Ж': 'З', 'З': 'И', 'И': 'Й', \n",
    "    'Й': 's', 'К': 'd', 'Л': 'f', 'М': 'Н', 'Н': 'О', 'О': 'П', 'П': 'Р',\n",
    "    'Р': 'С', 'С': 'Т', 'Т': 'g', 'У': 'h', 'Ф': 'j', 'Х': 'k', 'Ц': 'l',\n",
    "    'Ч': 'z', 'Ш': 'Щ', 'Щ': 'Ь', 'Ь': 'Ы', 'Ы': 'Ъ', 'Ъ': 'r', 'Э': 'Ю', 'Ю': 'Я', 'Я': 'А'}\n",
    "    b = list(b)\n",
    "    for i in b:\n",
    "        for d in replacement:\n",
    "            if i==d:\n",
    "                result.append(replacement[d])\n",
    "                t=''.join(result)\n",
    "                u=str(t)\n",
    "    return(u)\n",
    "\n",
    "def decode(b):\n",
    "    result=[]\n",
    "    replacement = {'а': 'б', 'б': 'в', 'в': 'г', 'г': 'д', 'д': 'е', 'е': 'ё', 'ё': 'ж',\n",
    "    'ж': 'з', 'з': 'и', 'и': 'й', 'й': '1', 'к': '2', 'л': '3',\n",
    "    'м': 'н', 'н': 'о', 'о': 'п', 'п': 'р', 'р': 'с', 'с': 'т',\n",
    "    'т': '4', 'у': '5', 'ф': '6', 'х': '7', 'ц': '8', 'ч': '9',\n",
    "    'ш': 'щ', 'щ': 'ь', 'ь': 'ы', 'ы': 'ъ', 'ъ': '0', 'э': 'ю', 'ю': 'я',\n",
    "    'я': 'а', ' ': ' ', ',': ',', '!': '!', 'А': 'Б', 'Б': 'В', 'В': 'Г',\n",
    "    'Г': 'Д', 'Д': 'Е', 'Е': 'Ё', 'Ё': 'Ж', 'Ж': 'З', 'З': 'И', 'И': 'Й',\n",
    "    'Й': 's', 'К': 'd', 'Л': 'f', 'М': 'Н', 'Н': 'О', 'О': 'П', 'П': 'Р',\n",
    "    'Р': 'С', 'С': 'Т', 'Т': 'g', 'У': 'h', 'Ф': 'j', 'Х': 'k', 'Ц': 'l',\n",
    "    'Ч': 'z', 'Ш': 'Щ', 'Щ': 'Ь', 'Ь': 'Ы', 'Ы': 'Ъ', 'Ъ': 'r', 'Э': 'Ю', 'Ю': 'Я', 'Я': 'А'}\n",
    "    s={v:k for k, v in replacement.items()}\n",
    "    b = list(b)\n",
    "    for i in b:\n",
    "        for d in s:\n",
    "            if i==d:\n",
    "                result.append(s[d])\n",
    "                t=''.join(result)\n",
    "                u=str(t)\n",
    "    return(u)\n",
    "\n",
    "\n",
    "decode('Рсйгё4, Гбоа!')"
   ]
  },
  {
   "cell_type": "code",
   "execution_count": null,
   "metadata": {},
   "outputs": [],
   "source": []
  },
  {
   "cell_type": "code",
   "execution_count": null,
   "metadata": {},
   "outputs": [],
   "source": []
  }
 ],
 "metadata": {
  "kernelspec": {
   "display_name": "Python 3",
   "language": "python",
   "name": "python3"
  },
  "language_info": {
   "codemirror_mode": {
    "name": "ipython",
    "version": 3
   },
   "file_extension": ".py",
   "mimetype": "text/x-python",
   "name": "python",
   "nbconvert_exporter": "python",
   "pygments_lexer": "ipython3",
   "version": "3.7.3"
  }
 },
 "nbformat": 4,
 "nbformat_minor": 2
}
