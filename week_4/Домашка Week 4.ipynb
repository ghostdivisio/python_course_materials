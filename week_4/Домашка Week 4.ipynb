{
 "cells": [
  {
   "cell_type": "code",
   "execution_count": 45,
   "id": "cb712b84",
   "metadata": {},
   "outputs": [
    {
     "name": "stdout",
     "output_type": "stream",
     "text": [
      "Введите какое-нибудь число: 4\n",
      "24\n"
     ]
    }
   ],
   "source": [
    "#Задание 1\n",
    "a = int(input('Введите какое-нибудь число: '))\n",
    "b = 1\n",
    "if a !=0:\n",
    "    for i in range(1, a+1):\n",
    "        b*=i\n",
    "    print(b)\n",
    "else:\n",
    "    print(1)\n",
    "    "
   ]
  },
  {
   "cell_type": "code",
   "execution_count": 4,
   "id": "a28459a4",
   "metadata": {},
   "outputs": [
    {
     "name": "stdout",
     "output_type": "stream",
     "text": [
      "Введите какое-нибудь число: 3\n",
      "Введите какое-нибудь число: 3\n",
      "369\n"
     ]
    }
   ],
   "source": [
    "#Задание 2\n",
    "a = str(input('Введите какое-нибудь число: '))\n",
    "n = int(input('Введите какое-нибудь число: '))\n",
    "b = 0\n",
    "for i in range(n-(n-1), n+1):\n",
    "    b+=int(a*i)\n",
    "print(b)\n",
    "    \n"
   ]
  },
  {
   "cell_type": "code",
   "execution_count": null,
   "id": "03d19bde",
   "metadata": {},
   "outputs": [],
   "source": []
  }
 ],
 "metadata": {
  "kernelspec": {
   "display_name": "Python 3 (ipykernel)",
   "language": "python",
   "name": "python3"
  },
  "language_info": {
   "codemirror_mode": {
    "name": "ipython",
    "version": 3
   },
   "file_extension": ".py",
   "mimetype": "text/x-python",
   "name": "python",
   "nbconvert_exporter": "python",
   "pygments_lexer": "ipython3",
   "version": "3.7.13"
  }
 },
 "nbformat": 4,
 "nbformat_minor": 5
}
