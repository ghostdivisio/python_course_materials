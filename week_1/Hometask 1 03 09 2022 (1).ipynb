{
  "metadata": {
    "language_info": {
      "codemirror_mode": {
        "name": "python",
        "version": 3
      },
      "file_extension": ".py",
      "mimetype": "text/x-python",
      "name": "python",
      "nbconvert_exporter": "python",
      "pygments_lexer": "ipython3",
      "version": "3.8"
    },
    "kernelspec": {
      "name": "python",
      "display_name": "Python (Pyodide)",
      "language": "python"
    }
  },
  "nbformat_minor": 4,
  "nbformat": 4,
  "cells": [
    {
      "cell_type": "code",
      "source": "# Задание 1\n# Дано число 179. Нужно найти сумму его цифр\n# Решение\nprint (1 + 7 + 9)",
      "metadata": {
        "trusted": true
      },
      "execution_count": 5,
      "outputs": [
        {
          "name": "stdout",
          "text": "17\n",
          "output_type": "stream"
        }
      ]
    },
    {
      "cell_type": "code",
      "source": "# Задание 2\n# Пускай N=345\n# Решение\nprint (345 / 60) # находим количество часов\nprint (345 % 60) # находим количество минут\n# выведем формат времени, который будет показан на часах\nprint ('5 45')",
      "metadata": {
        "trusted": true
      },
      "execution_count": 9,
      "outputs": [
        {
          "name": "stdout",
          "text": "5.75\n45\n5 45\n",
          "output_type": "stream"
        }
      ]
    },
    {
      "cell_type": "code",
      "source": "# Задание 2 другой вариант\nN = 34849494\nprint (N / 60)\n\n# узнаем, сколько суток\nprint (580824.9 / 24)\n\n# выходит, что прошли ровно 24201 сутки\n# а сколько минут в сутках?\nprint (24 * 60)\n\nprint (0.037500000002 * 1440) # узнаём, сколько минут прошло с начала суток\n\nprint ('0 54')",
      "metadata": {
        "trusted": true
      },
      "execution_count": 18,
      "outputs": [
        {
          "name": "stdout",
          "text": "580824.9\n24201.037500000002\n1440\n54.00000000288001\n0 54\n",
          "output_type": "stream"
        }
      ]
    },
    {
      "cell_type": "code",
      "source": "",
      "metadata": {},
      "execution_count": null,
      "outputs": []
    }
  ]
}